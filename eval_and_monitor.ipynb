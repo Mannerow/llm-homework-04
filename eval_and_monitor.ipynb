{
 "cells": [
  {
   "cell_type": "code",
   "execution_count": 20,
   "metadata": {},
   "outputs": [],
   "source": [
    "import pandas as pd"
   ]
  },
  {
   "cell_type": "markdown",
   "metadata": {},
   "source": [
    "## Get the Data Generated from the Previous Module\n",
    "\n",
    "This dataset, derived from the gpt4o mini, includes fields such as 'answer_llm', 'answer_orig', 'document', 'question', and 'course'.\n",
    "\n",
    "- 'answer_llm': The response provided by the language model to the generated question.\n",
    "- 'answer_orig': The original answer from the ground truth dataset, which was used to generate the corresponding question.\n",
    "- 'document': The identifier for the document.\n",
    "- 'question': The question generated from the original answer.\n",
    "- 'course': The related course.\n",
    "\n",
    "The dataset was compiled by processing a ground truth dataset that contains questions, associated courses, and document IDs. This ground truth dataset was produced from the original set of FAQ documents. For each answer in these documents, an LLM generated five related questions, recording the document ID linked to each question.\n",
    "\n",
    "Using the fields 'answer_llm' and 'answer_orig', we can compute the cosine similarity to assess the accuracy of the LLM's responses to the generated questions."
   ]
  },
  {
   "cell_type": "code",
   "execution_count": 21,
   "metadata": {},
   "outputs": [],
   "source": [
    "github_url = 'https://github.com/DataTalksClub/llm-zoomcamp/blob/main/04-monitoring/data/results-gpt4o-mini.csv'\n",
    "url = f'{github_url}?raw=1'\n",
    "df = pd.read_csv(url)"
   ]
  },
  {
   "cell_type": "code",
   "execution_count": 22,
   "metadata": {},
   "outputs": [],
   "source": [
    "df = df.iloc[:300] #only use the first 300 documents"
   ]
  },
  {
   "cell_type": "markdown",
   "metadata": {},
   "source": [
    "## Get the embeddings model\n",
    "\n",
    "multi-qa-mpnet-base-dot-v1 from the Sentence Transformer library"
   ]
  },
  {
   "cell_type": "code",
   "execution_count": 23,
   "metadata": {},
   "outputs": [
    {
     "name": "stderr",
     "output_type": "stream",
     "text": [
      "/home/ubuntu/.local/share/virtualenvs/llm-homework-04-4mt2ev0V/lib/python3.9/site-packages/transformers/tokenization_utils_base.py:1601: FutureWarning: `clean_up_tokenization_spaces` was not set. It will be set to `True` by default. This behavior will be depracted in transformers v4.45, and will be then set to `False` by default. For more details check this issue: https://github.com/huggingface/transformers/issues/31884\n",
      "  warnings.warn(\n"
     ]
    }
   ],
   "source": [
    "from sentence_transformers import SentenceTransformer\n",
    "model_name = 'multi-qa-mpnet-base-dot-v1'\n",
    "embedding_model = SentenceTransformer(model_name)"
   ]
  },
  {
   "cell_type": "markdown",
   "metadata": {},
   "source": [
    "## Create the embeddings for the first LLM answer"
   ]
  },
  {
   "cell_type": "code",
   "execution_count": 24,
   "metadata": {},
   "outputs": [
    {
     "name": "stdout",
     "output_type": "stream",
     "text": [
      "You can sign up for the course by visiting the course page at [http://mlzoomcamp.com/](http://mlzoomcamp.com/).\n"
     ]
    }
   ],
   "source": [
    "answer_llm = df.iloc[0].answer_llm\n",
    "print(answer_llm)"
   ]
  },
  {
   "cell_type": "code",
   "execution_count": 25,
   "metadata": {},
   "outputs": [
    {
     "name": "stdout",
     "output_type": "stream",
     "text": [
      "-0.42244658\n"
     ]
    }
   ],
   "source": [
    "first_answer_embedding = embedding_model.encode(answer_llm)\n",
    "print(first_answer_embedding[0])"
   ]
  },
  {
   "cell_type": "markdown",
   "metadata": {},
   "source": [
    "## Compute Dot Product\n",
    "\n",
    "Now for each answer pair, let's create embeddings and compute dot product between them\n",
    "\n",
    "We will put the results (scores) into the `evaluations` list\n",
    "\n",
    "What's the 75% percentile of the score?"
   ]
  },
  {
   "cell_type": "code",
   "execution_count": 26,
   "metadata": {},
   "outputs": [],
   "source": [
    "from tqdm.auto import tqdm"
   ]
  },
  {
   "cell_type": "code",
   "execution_count": 27,
   "metadata": {},
   "outputs": [],
   "source": [
    "import numpy as np"
   ]
  },
  {
   "cell_type": "code",
   "execution_count": 31,
   "metadata": {},
   "outputs": [
    {
     "name": "stderr",
     "output_type": "stream",
     "text": [
      "100%|██████████| 300/300 [01:04<00:00,  4.65it/s]"
     ]
    },
    {
     "name": "stdout",
     "output_type": "stream",
     "text": [
      "[np.float32(17.515991), np.float32(13.4184), np.float32(25.313255), np.float32(12.147417), np.float32(18.747738), np.float32(33.970406), np.float32(30.251701), np.float32(29.52158), np.float32(35.272198), np.float32(27.75177), np.float32(32.34471), np.float32(31.44184), np.float32(36.380714), np.float32(33.340504), np.float32(30.606163), np.float32(32.503044), np.float32(29.674448), np.float32(24.35346), np.float32(20.132465), np.float32(23.995481), np.float32(30.880281), np.float32(32.692432), np.float32(30.04917), np.float32(16.078163), np.float32(31.796417), np.float32(37.980003), np.float32(20.83905), np.float32(32.61287), np.float32(38.894203), np.float32(34.051826), np.float32(28.263874), np.float32(27.124828), np.float32(23.975262), np.float32(26.340145), np.float32(18.658112), np.float32(25.016403), np.float32(21.101128), np.float32(33.726795), np.float32(29.340345), np.float32(28.654509), np.float32(29.608585), np.float32(30.810738), np.float32(33.331203), np.float32(26.220482), np.float32(26.550074), np.float32(13.148596), np.float32(12.962547), np.float32(12.275608), np.float32(9.97444), np.float32(10.883928), np.float32(29.84507), np.float32(32.361786), np.float32(22.18718), np.float32(30.26893), np.float32(25.09188), np.float32(32.742786), np.float32(28.220984), np.float32(27.274973), np.float32(24.20864), np.float32(22.568905), np.float32(19.767456), np.float32(18.679333), np.float32(20.422318), np.float32(22.051323), np.float32(18.188011), np.float32(28.455883), np.float32(25.919708), np.float32(23.332336), np.float32(22.205942), np.float32(28.296299), np.float32(39.23054), np.float32(36.758507), np.float32(31.913893), np.float32(31.202854), np.float32(36.913044), np.float32(30.51419), np.float32(36.26146), np.float32(27.397549), np.float32(37.79279), np.float32(23.29768), np.float32(34.252586), np.float32(34.55062), np.float32(30.316463), np.float32(35.70352), np.float32(31.012533), np.float32(35.45961), np.float32(35.07577), np.float32(35.429836), np.float32(29.881174), np.float32(30.037102), np.float32(31.247982), np.float32(29.893936), np.float32(28.52552), np.float32(31.754608), np.float32(32.590057), np.float32(39.476013), np.float32(34.973717), np.float32(28.725082), np.float32(30.684105), np.float32(37.26411), np.float32(35.62684), np.float32(33.202923), np.float32(25.320387), np.float32(32.188904), np.float32(22.518665), np.float32(30.81065), np.float32(37.474186), np.float32(27.12754), np.float32(27.558437), np.float32(33.077446), np.float32(25.819035), np.float32(35.047577), np.float32(34.910126), np.float32(35.86292), np.float32(35.66461), np.float32(23.890955), np.float32(26.650806), np.float32(19.036327), np.float32(23.73263), np.float32(36.686493), np.float32(23.63226), np.float32(26.22437), np.float32(28.33199), np.float32(28.205894), np.float32(29.783943), np.float32(27.14346), np.float32(14.999927), np.float32(18.169994), np.float32(18.228647), np.float32(20.363132), np.float32(5.448558), np.float32(5.9324827), np.float32(7.8709764), np.float32(4.547925), np.float32(5.3850865), np.float32(27.713972), np.float32(20.700142), np.float32(27.329468), np.float32(16.532587), np.float32(19.90136), np.float32(31.073883), np.float32(29.63747), np.float32(28.450893), np.float32(24.889116), np.float32(26.597534), np.float32(26.66406), np.float32(33.775307), np.float32(28.765789), np.float32(19.707882), np.float32(17.306509), np.float32(34.35747), np.float32(30.77972), np.float32(30.170502), np.float32(27.354593), np.float32(32.209934), np.float32(26.88023), np.float32(28.167715), np.float32(29.97623), np.float32(28.072681), np.float32(31.957577), np.float32(30.330576), np.float32(29.305616), np.float32(27.504322), np.float32(27.409874), np.float32(26.012466), np.float32(31.341297), np.float32(29.248137), np.float32(34.05439), np.float32(29.529327), np.float32(27.14475), np.float32(26.034885), np.float32(31.496735), np.float32(32.259842), np.float32(21.93249), np.float32(30.88007), np.float32(39.092697), np.float32(32.14211), np.float32(25.34589), np.float32(23.977585), np.float32(27.314085), np.float32(30.877424), np.float32(28.47052), np.float32(28.867748), np.float32(28.173195), np.float32(27.834404), np.float32(33.211494), np.float32(27.78221), np.float32(28.150198), np.float32(27.548815), np.float32(29.624218), np.float32(28.466621), np.float32(27.704884), np.float32(27.517044), np.float32(26.017357), np.float32(16.815935), np.float32(29.181887), np.float32(30.130184), np.float32(27.391748), np.float32(28.57114), np.float32(21.442022), np.float32(29.071892), np.float32(27.174828), np.float32(26.663847), np.float32(26.153397), np.float32(29.61127), np.float32(27.712765), np.float32(17.301191), np.float32(25.073746), np.float32(26.105177), np.float32(15.056327), np.float32(32.22445), np.float32(26.99876), np.float32(24.001858), np.float32(30.299423), np.float32(31.251945), np.float32(24.931465), np.float32(27.136265), np.float32(20.048164), np.float32(22.204575), np.float32(18.39867), np.float32(23.471605), np.float32(23.65659), np.float32(20.096878), np.float32(27.785185), np.float32(23.721888), np.float32(29.476566), np.float32(31.923635), np.float32(27.786556), np.float32(25.282497), np.float32(21.090366), np.float32(34.241962), np.float32(34.566086), np.float32(35.932568), np.float32(22.799606), np.float32(33.241436), np.float32(19.98196), np.float32(22.63658), np.float32(24.13118), np.float32(23.120182), np.float32(11.905026), np.float32(32.218346), np.float32(29.581188), np.float32(22.277004), np.float32(26.254917), np.float32(18.278994), np.float32(33.623146), np.float32(29.776497), np.float32(30.86694), np.float32(26.539072), np.float32(26.438843), np.float32(23.820011), np.float32(27.360676), np.float32(29.637081), np.float32(31.316286), np.float32(20.20752), np.float32(34.52057), np.float32(33.354904), np.float32(28.47409), np.float32(27.69431), np.float32(21.486214), np.float32(29.003838), np.float32(26.534304), np.float32(28.94831), np.float32(27.005243), np.float32(24.340914), np.float32(21.608492), np.float32(33.209824), np.float32(31.647547), np.float32(30.631367), np.float32(25.525118), np.float32(31.805733), np.float32(34.976173), np.float32(29.750324), np.float32(28.02201), np.float32(24.982286), np.float32(34.441284), np.float32(33.40549), np.float32(30.952469), np.float32(25.195045), np.float32(29.613968), np.float32(31.487984), np.float32(29.713966), np.float32(28.341757), np.float32(28.797338), np.float32(28.471731), np.float32(38.855076), np.float32(35.335583), np.float32(13.904608), np.float32(38.24656), np.float32(30.029463), np.float32(33.363075), np.float32(25.712194), np.float32(32.5358), np.float32(31.411255), np.float32(30.524265), np.float32(34.001778), np.float32(33.690857), np.float32(34.491528), np.float32(27.538355), np.float32(18.414108)]\n"
     ]
    },
    {
     "name": "stderr",
     "output_type": "stream",
     "text": [
      "\n"
     ]
    }
   ],
   "source": [
    "evaluations = []\n",
    "\n",
    "for index, row in tqdm(df.iterrows(), total=df.shape[0]):\n",
    "    v_answer_llm = embedding_model.encode(row['answer_llm']) \n",
    "    v_answer_orig = embedding_model.encode(row['answer_orig'])\n",
    "    score = v_answer_llm.dot(v_answer_orig)\n",
    "    evaluations.append(score)\n",
    "print(evaluations)\n"
   ]
  },
  {
   "cell_type": "code",
   "execution_count": 32,
   "metadata": {},
   "outputs": [
    {
     "name": "stdout",
     "output_type": "stream",
     "text": [
      "The 75th percentile is: 31.674313\n"
     ]
    }
   ],
   "source": [
    "percentile_75 = np.percentile(evaluations, 75)\n",
    "\n",
    "print(\"The 75th percentile is:\", percentile_75)"
   ]
  },
  {
   "cell_type": "markdown",
   "metadata": {},
   "source": [
    "## The results are not within the range [0,1]. We need to normalize the vectors"
   ]
  },
  {
   "cell_type": "code",
   "execution_count": 38,
   "metadata": {},
   "outputs": [],
   "source": [
    "def compute_norm(v):\n",
    "    norm = np.sqrt((v * v).sum())\n",
    "    v_norm = v / norm\n",
    "    return v_norm"
   ]
  },
  {
   "cell_type": "code",
   "execution_count": 39,
   "metadata": {},
   "outputs": [],
   "source": [
    "def evaluate(df):\n",
    "    evaluations = []\n",
    "    for index, row in tqdm(df.iterrows(), total=df.shape[0]):\n",
    "        v_answer_llm = compute_norm(embedding_model.encode(row['answer_llm'])) \n",
    "        v_answer_orig = compute_norm(embedding_model.encode(row['answer_orig']))\n",
    "        score = v_answer_llm.dot(v_answer_orig)\n",
    "        evaluations.append(score)\n",
    "    return evaluations"
   ]
  },
  {
   "cell_type": "code",
   "execution_count": 40,
   "metadata": {},
   "outputs": [
    {
     "name": "stderr",
     "output_type": "stream",
     "text": [
      "100%|██████████| 300/300 [01:04<00:00,  4.67it/s]\n"
     ]
    }
   ],
   "source": [
    "evaluations = evaluate(df)"
   ]
  },
  {
   "cell_type": "code",
   "execution_count": 41,
   "metadata": {},
   "outputs": [
    {
     "name": "stdout",
     "output_type": "stream",
     "text": [
      "The 75th percentile is: 0.8362348\n"
     ]
    }
   ],
   "source": [
    "percentile_75 = np.percentile(evaluations, 75)\n",
    "\n",
    "print(\"The 75th percentile is:\", percentile_75)"
   ]
  },
  {
   "cell_type": "markdown",
   "metadata": {},
   "source": [
    "## Now we will use an alternative metric - the ROUGE score\n",
    "\n",
    "This is a set of metrics that compares two answers based on the overlap of n-grams, word sequences, and word pairs.\n",
    "\n",
    "It can give a more nuanced view of text similarity than just cosine similarity alone.\n",
    "\n",
    "Let's compute the ROUGE score between the answers at the index 10 of our dataframe (doc_id=5170565b)\n",
    "\n",
    "n-grams are contiguous sequence of n items from a given sample of text or speech. These items can be phonemes, syllables, letters, words, or base pairs according to the level of textual analysis being conducted."
   ]
  },
  {
   "cell_type": "code",
   "execution_count": 42,
   "metadata": {},
   "outputs": [],
   "source": [
    "from rouge import Rouge\n",
    "rouge_scorer = Rouge()"
   ]
  },
  {
   "cell_type": "code",
   "execution_count": 43,
   "metadata": {},
   "outputs": [],
   "source": [
    "r = df.iloc[10]"
   ]
  },
  {
   "cell_type": "code",
   "execution_count": 45,
   "metadata": {},
   "outputs": [
    {
     "name": "stdout",
     "output_type": "stream",
     "text": [
      "{'rouge-1': {'r': 0.45454545454545453, 'p': 0.45454545454545453, 'f': 0.45454544954545456}, 'rouge-2': {'r': 0.21621621621621623, 'p': 0.21621621621621623, 'f': 0.21621621121621637}, 'rouge-l': {'r': 0.3939393939393939, 'p': 0.3939393939393939, 'f': 0.393939388939394}}\n"
     ]
    }
   ],
   "source": [
    "scores = rouge_scorer.get_scores(r['answer_llm'], r['answer_orig'])[0]"
   ]
  },
  {
   "cell_type": "markdown",
   "metadata": {},
   "source": [
    "There are three scores: rouge-1, rouge-2 and rouge-l, and precision, recall and F1 score for each.\n",
    "\n",
    "- rouge-1 - the overlap of unigrams,\n",
    "- rouge-2 - bigrams,\n",
    "- rouge-l - the longest common subsequence"
   ]
  },
  {
   "cell_type": "code",
   "execution_count": 46,
   "metadata": {},
   "outputs": [
    {
     "data": {
      "text/plain": [
       "{'rouge-1': {'r': 0.45454545454545453,\n",
       "  'p': 0.45454545454545453,\n",
       "  'f': 0.45454544954545456},\n",
       " 'rouge-2': {'r': 0.21621621621621623,\n",
       "  'p': 0.21621621621621623,\n",
       "  'f': 0.21621621121621637},\n",
       " 'rouge-l': {'r': 0.3939393939393939,\n",
       "  'p': 0.3939393939393939,\n",
       "  'f': 0.393939388939394}}"
      ]
     },
     "execution_count": 46,
     "metadata": {},
     "output_type": "execute_result"
    }
   ],
   "source": [
    "scores"
   ]
  },
  {
   "cell_type": "markdown",
   "metadata": {},
   "source": [
    "## Average rouge score\n",
    "\n",
    "Let's compute the average F-score between rouge-1, rouge-2 and rouge-l for the same record"
   ]
  },
  {
   "cell_type": "code",
   "execution_count": 47,
   "metadata": {},
   "outputs": [
    {
     "name": "stdout",
     "output_type": "stream",
     "text": [
      "The average F-score is: 0.35490034990035496\n"
     ]
    }
   ],
   "source": [
    "# Extract F-scores using list comprehension\n",
    "f_scores = [scores[key]['f'] for key in scores]\n",
    "\n",
    "# Calculate the average F-score using NumPy\n",
    "average_f_score = np.mean(f_scores)\n",
    "\n",
    "print(\"The average F-score is:\", average_f_score)"
   ]
  }
 ],
 "metadata": {
  "kernelspec": {
   "display_name": "llm-homework-04-4mt2ev0V",
   "language": "python",
   "name": "python3"
  },
  "language_info": {
   "codemirror_mode": {
    "name": "ipython",
    "version": 3
   },
   "file_extension": ".py",
   "mimetype": "text/x-python",
   "name": "python",
   "nbconvert_exporter": "python",
   "pygments_lexer": "ipython3",
   "version": "3.9.12"
  }
 },
 "nbformat": 4,
 "nbformat_minor": 2
}
